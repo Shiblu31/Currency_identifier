{
 "cells": [
  {
   "cell_type": "code",
   "execution_count": null,
   "id": "4c883b98-8aa2-4381-bfdb-a363f09eb759",
   "metadata": {},
   "outputs": [],
   "source": [
    "\n",
    "import tensorflow as tf\n",
    "import numpy as np\n",
    "import os"
   ]
  },
  {
   "cell_type": "code",
   "execution_count": null,
   "id": "acc94a43-ebdc-4b71-a505-4ec032f5bd58",
   "metadata": {},
   "outputs": [],
   "source": [
    "base_dir = r\"F:\\A dataset for DL\\taka\""
   ]
  },
  {
   "cell_type": "code",
   "execution_count": null,
   "id": "465bfc46-3103-4fda-86d7-0de2794c8290",
   "metadata": {},
   "outputs": [],
   "source": [
    "IMAGE_SIZE=224\n",
    "BATCH_SIZE=64\n",
    "\n",
    "train_datagen=tf.keras.preprocessing.image.ImageDataGenerator(\n",
    "    \n",
    "    \n",
    "    rescale=1./255,\n",
    "    zoom_range=0.2,\n",
    "    horizontal_flip=True,\n",
    "    validation_split=0.1)\n",
    "\n",
    "validation_datagen=tf.keras.preprocessing.image.ImageDataGenerator(\n",
    "    rescale=1./255,\n",
    "    \n",
    "    validation_split=0.1\n",
    ")"
   ]
  },
  {
   "cell_type": "code",
   "execution_count": null,
   "id": "5cb73497-59bf-424e-9e3b-f13b98ab6dc7",
   "metadata": {},
   "outputs": [],
   "source": [
    "train_genarator=train_datagen.flow_from_directory(\n",
    "    base_dir,\n",
    "    target_size=(IMAGE_SIZE,IMAGE_SIZE),\n",
    "    batch_size=BATCH_SIZE,\n",
    "    subset='training'\n",
    "    \n",
    "\n",
    ") \n",
    "\n",
    "validation_generator=validation_datagen.flow_from_directory(\n",
    "    base_dir,\n",
    "    target_size=(IMAGE_SIZE,IMAGE_SIZE),\n",
    "    batch_size=BATCH_SIZE,\n",
    "    subset='validation'\n",
    "    \n",
    "\n",
    ") "
   ]
  },
  {
   "cell_type": "code",
   "execution_count": null,
   "id": "82cd5f47-c75d-48db-aa42-906d0369a361",
   "metadata": {},
   "outputs": [],
   "source": [
    "from tensorflow.keras.layers import Input,Flatten,Dense\n",
    "from tensorflow.keras.models import Model\n",
    "from tensorflow.keras.applications.vgg16 import VGG16\n",
    "from tensorflow.keras.models import Sequential\n",
    "from glob import glob"
   ]
  },
  {
   "cell_type": "code",
   "execution_count": null,
   "id": "d5b7c991-6b58-443b-9f47-813ea005d8e8",
   "metadata": {},
   "outputs": [],
   "source": [
    "IMAGE_SIZE=[224,224]\n",
    "vgg=VGG16(input_shape=IMAGE_SIZE+[3],weights='imagenet',include_top=False)\n",
    "vgg.output"
   ]
  },
  {
   "cell_type": "code",
   "execution_count": null,
   "id": "538e7133-3fb2-4c13-a9c9-041281e6c040",
   "metadata": {},
   "outputs": [],
   "source": [
    "for layer in vgg.layers:\n",
    "    layer.trainable=False"
   ]
  },
  {
   "cell_type": "code",
   "execution_count": null,
   "id": "8e8c0d3a-bdc1-4e6f-8afb-2ba1fe929a35",
   "metadata": {},
   "outputs": [],
   "source": [
    "folders=glob(r\"F:\\A dataset for DL\\taka\\*\")\n",
    "print(len(folders))"
   ]
  },
  {
   "cell_type": "code",
   "execution_count": null,
   "id": "b2d7839d-1aa8-47c1-8d9f-e0f117587c85",
   "metadata": {},
   "outputs": [],
   "source": [
    "x=Flatten()(vgg.output)\n",
    "prediction=Dense(len(folders),activation='softmax')(x)\n",
    "model=Model(inputs=vgg.input,outputs=prediction)\n",
    "model.summary()"
   ]
  },
  {
   "cell_type": "code",
   "execution_count": null,
   "id": "feac86a9-c81c-4905-8f2e-302d629e0819",
   "metadata": {},
   "outputs": [],
   "source": [
    "model.compile(loss='binary_crossentropy', optimizer='adam', metrics=['accuracy'])"
   ]
  },
  {
   "cell_type": "code",
   "execution_count": null,
   "id": "7305e770-156e-4ce2-b030-f3d2e63de91d",
   "metadata": {},
   "outputs": [],
   "source": [
    "epoch=5\n",
    "\n",
    "history=model.fit(train_genarator,\n",
    "                  steps_per_epoch=len(train_genarator),\n",
    "                  epochs=epoch,\n",
    "                  validation_data=validation_generator,\n",
    "                  validation_steps=len(validation_generator)\n",
    "                 )"
   ]
  },
  {
   "cell_type": "code",
   "execution_count": null,
   "id": "6c833f47-820d-49b3-8f4d-4ce6c7ea7267",
   "metadata": {},
   "outputs": [],
   "source": [
    "from IPython.display import Image\n",
    "\n",
    "Image(filename = r\"F:\\A dataset for DL\\taka\\one\\100_43.jpg\",width = 200, height = 400)"
   ]
  },
  {
   "cell_type": "code",
   "execution_count": null,
   "id": "b22be613-a9a4-4dfc-8dcb-862b90a05f01",
   "metadata": {},
   "outputs": [],
   "source": [
    "from keras.preprocessing import image\n",
    "import numpy as np\n",
    "\n",
    "img_pred=image.load_img(r\"F:\\A dataset for DL\\taka\\one\\100_43.jpg\",target_size=(224,224))\n",
    "\n",
    "img_pred=image.img_to_array(img_pred)\n",
    "img_pred=np.expand_dims(img_pred, axis=0)\n",
    "\n",
    "\n",
    "rslt= model.predict(img_pred)\n",
    "\n",
    "print(rslt)\n",
    "print(\"size is = \",rslt.ndim)\n",
    "if rslt[0][0]>rslt[0][1]:\n",
    "    prediction=\"one\"\n",
    "    \n",
    "    \n",
    "else:\n",
    "    prediction=\"two\"\n",
    "print(prediction)"
   ]
  },
  {
   "cell_type": "code",
   "execution_count": null,
   "id": "b8b3011b-48a7-414e-a5fd-4de9af16d94a",
   "metadata": {},
   "outputs": [],
   "source": []
  }
 ],
 "metadata": {
  "kernelspec": {
   "display_name": "Python 3 (ipykernel)",
   "language": "python",
   "name": "python3"
  },
  "language_info": {
   "codemirror_mode": {
    "name": "ipython",
    "version": 3
   },
   "file_extension": ".py",
   "mimetype": "text/x-python",
   "name": "python",
   "nbconvert_exporter": "python",
   "pygments_lexer": "ipython3",
   "version": "3.11.7"
  }
 },
 "nbformat": 4,
 "nbformat_minor": 5
}
